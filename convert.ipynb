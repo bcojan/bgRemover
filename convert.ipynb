{
  "nbformat": 4,
  "nbformat_minor": 0,
  "metadata": {
    "colab": {
      "provenance": []
    },
    "kernelspec": {
      "name": "python3",
      "display_name": "Python 3"
    },
    "language_info": {
      "name": "python"
    }
  },
  "cells": [
    {
      "cell_type": "code",
      "execution_count": 1,
      "metadata": {
        "colab": {
          "base_uri": "https://localhost:8080/"
        },
        "id": "zB-DciZHcGsk",
        "outputId": "56ae3c2b-9928-4716-938e-1910a666c962"
      },
      "outputs": [
        {
          "output_type": "stream",
          "name": "stdout",
          "text": [
            "Looking in indexes: https://pypi.org/simple, https://us-python.pkg.dev/colab-wheels/public/simple/\n",
            "Collecting coremltools\n",
            "  Downloading coremltools-6.3.0-cp39-none-manylinux1_x86_64.whl (1.6 MB)\n",
            "\u001b[2K     \u001b[90m━━━━━━━━━━━━━━━━━━━━━━━━━━━━━━━━━━━━━━━━\u001b[0m \u001b[32m1.6/1.6 MB\u001b[0m \u001b[31m19.5 MB/s\u001b[0m eta \u001b[36m0:00:00\u001b[0m\n",
            "\u001b[?25hRequirement already satisfied: tqdm in /usr/local/lib/python3.9/dist-packages (from coremltools) (4.65.0)\n",
            "Requirement already satisfied: packaging in /usr/local/lib/python3.9/dist-packages (from coremltools) (23.0)\n",
            "Requirement already satisfied: sympy in /usr/local/lib/python3.9/dist-packages (from coremltools) (1.11.1)\n",
            "Requirement already satisfied: protobuf<=4.0.0,>=3.1.0 in /usr/local/lib/python3.9/dist-packages (from coremltools) (3.20.3)\n",
            "Requirement already satisfied: numpy>=1.14.5 in /usr/local/lib/python3.9/dist-packages (from coremltools) (1.22.4)\n",
            "Requirement already satisfied: mpmath>=0.19 in /usr/local/lib/python3.9/dist-packages (from sympy->coremltools) (1.3.0)\n",
            "Installing collected packages: coremltools\n",
            "Successfully installed coremltools-6.3.0\n"
          ]
        }
      ],
      "source": [
        "!pip install coremltools"
      ]
    },
    {
      "cell_type": "code",
      "source": [
        "!wget https://huggingface.co/Carve/fba/resolve/a5d3457df0fb9c88ea19ed700d409756ca2069d1/fba_matting.pth"
      ],
      "metadata": {
        "colab": {
          "base_uri": "https://localhost:8080/"
        },
        "id": "F5y3x-vzdxlT",
        "outputId": "3070442f-9e12-42b6-89e4-6d8b5d7e39d8"
      },
      "execution_count": 2,
      "outputs": [
        {
          "output_type": "stream",
          "name": "stdout",
          "text": [
            "--2023-04-11 13:19:55--  https://huggingface.co/Carve/fba/resolve/a5d3457df0fb9c88ea19ed700d409756ca2069d1/fba_matting.pth\n",
            "Resolving huggingface.co (huggingface.co)... 54.192.81.48, 54.192.81.16, 54.192.81.49, ...\n",
            "Connecting to huggingface.co (huggingface.co)|54.192.81.48|:443... connected.\n",
            "HTTP request sent, awaiting response... 302 Found\n",
            "Location: https://cdn-lfs.huggingface.co/repos/c9/27/c9278799140b0827d28e927ef1c73655ddf7a8c6558d5178092a1303e54e80f8/a0eb7132f70f4d69d0bcb53763ec4e5ff1d1c65237ef9a9d69f9c94da8b85dee?response-content-disposition=attachment%3B+filename*%3DUTF-8%27%27fba_matting.pth%3B+filename%3D%22fba_matting.pth%22%3B&Expires=1681478396&Policy=eyJTdGF0ZW1lbnQiOlt7IlJlc291cmNlIjoiaHR0cHM6Ly9jZG4tbGZzLmh1Z2dpbmdmYWNlLmNvL3JlcG9zL2M5LzI3L2M5Mjc4Nzk5MTQwYjA4MjdkMjhlOTI3ZWYxYzczNjU1ZGRmN2E4YzY1NThkNTE3ODA5MmExMzAzZTU0ZTgwZjgvYTBlYjcxMzJmNzBmNGQ2OWQwYmNiNTM3NjNlYzRlNWZmMWQxYzY1MjM3ZWY5YTlkNjlmOWM5NGRhOGI4NWRlZT9yZXNwb25zZS1jb250ZW50LWRpc3Bvc2l0aW9uPSoiLCJDb25kaXRpb24iOnsiRGF0ZUxlc3NUaGFuIjp7IkFXUzpFcG9jaFRpbWUiOjE2ODE0NzgzOTZ9fX1dfQ__&Signature=m2v2OBhZwaiXRMquedh%7EevCtoHC8n-neRP5IMjowmDVNEzqraaEf7LPeFb1e6mynCNFtTxtgrwrAbAwYu%7EhDSdUZPyU2HY7pqK1K5grepr%7Eb8GoyHUuiYDMA6WoRKgY6gX%7EYAI24AShJ%7EThtIqYmkF71An8ThEfaWzUs1zWNkVZwmXcmalZ149tXdlM2myE5s4ivEX8mCQJnuWh7xEUeot83FPDdGotdc-Q1vb-GC3Va69FgPqE3weDx5rZNpRyrFv2TKPwQo7LNQstYisCNevKLyouxxxlOgQ%7END3-iJ%7EKycT9EhcyrtgeMH2c4aghInVqlsgwnxgcuqch8F15Aqg__&Key-Pair-Id=KVTP0A1DKRTAX [following]\n",
            "--2023-04-11 13:19:56--  https://cdn-lfs.huggingface.co/repos/c9/27/c9278799140b0827d28e927ef1c73655ddf7a8c6558d5178092a1303e54e80f8/a0eb7132f70f4d69d0bcb53763ec4e5ff1d1c65237ef9a9d69f9c94da8b85dee?response-content-disposition=attachment%3B+filename*%3DUTF-8%27%27fba_matting.pth%3B+filename%3D%22fba_matting.pth%22%3B&Expires=1681478396&Policy=eyJTdGF0ZW1lbnQiOlt7IlJlc291cmNlIjoiaHR0cHM6Ly9jZG4tbGZzLmh1Z2dpbmdmYWNlLmNvL3JlcG9zL2M5LzI3L2M5Mjc4Nzk5MTQwYjA4MjdkMjhlOTI3ZWYxYzczNjU1ZGRmN2E4YzY1NThkNTE3ODA5MmExMzAzZTU0ZTgwZjgvYTBlYjcxMzJmNzBmNGQ2OWQwYmNiNTM3NjNlYzRlNWZmMWQxYzY1MjM3ZWY5YTlkNjlmOWM5NGRhOGI4NWRlZT9yZXNwb25zZS1jb250ZW50LWRpc3Bvc2l0aW9uPSoiLCJDb25kaXRpb24iOnsiRGF0ZUxlc3NUaGFuIjp7IkFXUzpFcG9jaFRpbWUiOjE2ODE0NzgzOTZ9fX1dfQ__&Signature=m2v2OBhZwaiXRMquedh%7EevCtoHC8n-neRP5IMjowmDVNEzqraaEf7LPeFb1e6mynCNFtTxtgrwrAbAwYu%7EhDSdUZPyU2HY7pqK1K5grepr%7Eb8GoyHUuiYDMA6WoRKgY6gX%7EYAI24AShJ%7EThtIqYmkF71An8ThEfaWzUs1zWNkVZwmXcmalZ149tXdlM2myE5s4ivEX8mCQJnuWh7xEUeot83FPDdGotdc-Q1vb-GC3Va69FgPqE3weDx5rZNpRyrFv2TKPwQo7LNQstYisCNevKLyouxxxlOgQ%7END3-iJ%7EKycT9EhcyrtgeMH2c4aghInVqlsgwnxgcuqch8F15Aqg__&Key-Pair-Id=KVTP0A1DKRTAX\n",
            "Resolving cdn-lfs.huggingface.co (cdn-lfs.huggingface.co)... 65.8.158.48, 65.8.158.88, 65.8.158.123, ...\n",
            "Connecting to cdn-lfs.huggingface.co (cdn-lfs.huggingface.co)|65.8.158.48|:443... connected.\n",
            "HTTP request sent, awaiting response... 200 OK\n",
            "Length: 138840055 (132M) [binary/octet-stream]\n",
            "Saving to: ‘fba_matting.pth’\n",
            "\n",
            "fba_matting.pth     100%[===================>] 132.41M  49.5MB/s    in 2.7s    \n",
            "\n",
            "2023-04-11 13:19:59 (49.5 MB/s) - ‘fba_matting.pth’ saved [138840055/138840055]\n",
            "\n"
          ]
        }
      ]
    },
    {
      "cell_type": "code",
      "source": [
        "import torch\n",
        "import torchvision\n",
        "\n",
        "# Load a pre-trained version of MobileNetV2\n",
        "torch_model = torchvision.models.mobilenet_v2(pretrained=True)\n",
        "# Set the model in evaluation mode.\n",
        "torch_model.eval()\n",
        "\n",
        "# Trace the model with random data.\n",
        "example_input = torch.rand(1, 3, 224, 224) \n",
        "traced_model = torch.jit.trace(torch_model, example_input)\n",
        "out = traced_model(example_input)"
      ],
      "metadata": {
        "id": "lmY5zdM8cRm6"
      },
      "execution_count": null,
      "outputs": []
    }
  ]
}