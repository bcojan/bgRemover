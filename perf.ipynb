{
 "cells": [
  {
   "cell_type": "code",
   "execution_count": 1,
   "metadata": {},
   "outputs": [
    {
     "name": "stdout",
     "output_type": "stream",
     "text": [
      "Dockerfile               \u001b[34mcarvekit\u001b[m\u001b[m/                requirements.txt\n",
      "Dockerfile.cpu           conftest.py              requirements_dev.txt\n",
      "Dockerfile.cuda          docker-compose.cpu.yml   requirements_test.txt\n",
      "LICENSE                  docker-compose.cuda.yml  setup.py\n",
      "MANIFEST.in              \u001b[34mdocs\u001b[m\u001b[m/                    \u001b[34mtests\u001b[m\u001b[m/\n",
      "README.md                perf.ipynb\n"
     ]
    }
   ],
   "source": [
    "!git clone https://github.com/bcojan/bgRemover.git\n",
    "%cd content/bgRemover\n",
    "%ls"
   ]
  },
  {
   "cell_type": "code",
   "execution_count": 3,
   "metadata": {},
   "outputs": [],
   "source": [
    "import torch\n",
    "from carvekit.api.high import HiInterface\n",
    "from IPython import display\n",
    "\n",
    "# Check doc strings for more information\n",
    "interface = HiInterface(object_type=\"hairs-like\",  # Can be \"object\" or \"hairs-like\".\n",
    "                        batch_size_seg=5,\n",
    "                        batch_size_matting=1,\n",
    "                        device='cuda' if torch.cuda.is_available() else 'cpu',\n",
    "                        seg_mask_size=640,  # Use 640 for Tracer B7 and 320 for U2Net\n",
    "                        matting_mask_size=2048,\n",
    "                        trimap_prob_threshold=231,\n",
    "                        trimap_dilation=30,\n",
    "                        trimap_erosion_iters=5,\n",
    "                        fp16=False)\n",
    "images_without_background = interface(['./docs/other/images/example-hd.jpg'])\n",
    "result = images_without_background[0]\n",
    "# cat_wo_bg.save('2.png')\n",
    "\n",
    "display.clear_output()\n",
    "display.display(result)"
   ]
  }
 ],
 "metadata": {
  "kernelspec": {
   "display_name": ".venv",
   "language": "python",
   "name": "python3"
  },
  "language_info": {
   "codemirror_mode": {
    "name": "ipython",
    "version": 3
   },
   "file_extension": ".py",
   "mimetype": "text/x-python",
   "name": "python",
   "nbconvert_exporter": "python",
   "pygments_lexer": "ipython3",
   "version": "3.9.6"
  },
  "orig_nbformat": 4,
  "vscode": {
   "interpreter": {
    "hash": "03e1b2f0c5db1051c2efeb0a29617324fa93868b88249f54c2e4f028dec48537"
   }
  }
 },
 "nbformat": 4,
 "nbformat_minor": 2
}
