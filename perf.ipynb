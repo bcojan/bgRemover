{
  "cells": [
    {
      "cell_type": "code",
      "execution_count": 7,
      "metadata": {
        "colab": {
          "base_uri": "https://localhost:8080/"
        },
        "id": "appulf-c98iR",
        "outputId": "a4f228dc-f471-4721-ffdc-5b786de69ff2"
      },
      "outputs": [
        {
          "name": "stdout",
          "output_type": "stream",
          "text": [
            "/\n",
            "Cloning into 'bgRemover'...\n",
            "remote: Enumerating objects: 2583, done.\u001b[K\n",
            "remote: Counting objects: 100% (833/833), done.\u001b[K\n",
            "remote: Compressing objects: 100% (358/358), done.\u001b[K\n",
            "remote: Total 2583 (delta 438), reused 811 (delta 423), pack-reused 1750\u001b[K\n",
            "Receiving objects: 100% (2583/2583), 111.42 MiB | 42.76 MiB/s, done.\n",
            "Resolving deltas: 100% (1026/1026), done.\n",
            "/bgRemover\n",
            "\u001b[0m\u001b[01;34mcarvekit\u001b[0m/                \u001b[01;34mdocs\u001b[0m/                 requirements_test.txt\n",
            "conftest.py              LICENSE               requirements.txt\n",
            "docker-compose.cpu.yml   MANIFEST.in           setup.py\n",
            "docker-compose.cuda.yml  perf.ipynb            \u001b[01;34mtests\u001b[0m/\n",
            "Dockerfile.cpu           README.md\n",
            "Dockerfile.cuda          requirements_dev.txt\n"
          ]
        }
      ],
      "source": [
        "!git clone https://github.com/bcojan/bgRemover.git\n",
        "%cd bgRemover\n",
        "!pip install -r requirements.txt"
      ]
    },
    {
      "cell_type": "code",
      "execution_count": 2,
      "metadata": {
        "colab": {
          "base_uri": "https://localhost:8080/"
        },
        "id": "dopXpNoX-Ly7",
        "outputId": "d79ad7fb-7846-4ac3-f35c-acbefed71a85"
      },
      "outputs": [
        {
          "name": "stderr",
          "output_type": "stream",
          "text": [
            "Downloading u2net.pth model: 1377273it [00:23, 59767.85it/s]\n",
            "Downloading fba_matting.pth model: 1084688it [00:19, 56730.41it/s]\n",
            "Downloading deeplab.pth model: 1910513it [00:32, 59695.00it/s]\n",
            "Downloading basnet.pth model: 2722581it [00:46, 58378.57it/s]\n",
            "Downloading tracer_b7.pth model: 2084885it [00:35, 58380.86it/s]\n"
          ]
        }
      ],
      "source": [
        "from carvekit.ml.files.models_loc import download_all\n",
        "download_all();"
      ]
    },
    {
      "cell_type": "code",
      "execution_count": null,
      "metadata": {
        "id": "3IALT44h98iS"
      },
      "outputs": [],
      "source": [
        "\n",
        "import torch\n",
        "from carvekit.api.high import HiInterface\n",
        "from IPython import display\n",
        "\n",
        "display.clear_output()\n",
        "# Check doc strings for more information\n",
        "interface = HiInterface(object_type=\"object\",  # Can be \"object\" or \"hairs-like\".\n",
        "                        batch_size_seg=5,\n",
        "                        batch_size_matting=1,\n",
        "                        device='cuda', # if torch.cuda.is_available() else 'cpu',\n",
        "                        seg_mask_size=640,  # Use 640 for Tracer B7 and 320 for U2Net\n",
        "                        matting_mask_size=1024,\n",
        "                        trimap_prob_threshold=231,\n",
        "                        trimap_dilation=30,\n",
        "                        trimap_erosion_iters=5,\n",
        "                        fp16=True)\n",
        "images_without_background = interface(['docs/other/images/example-hd.jpg'])\n",
        "result = images_without_background[0]\n",
        "# cat_wo_bg.save('2.png')\n",
        "\n",
        "# display.clear_output()\n",
        "display.display(result)"
      ]
    }
  ],
  "metadata": {
    "accelerator": "GPU",
    "colab": {
      "provenance": []
    },
    "gpuClass": "standard",
    "kernelspec": {
      "display_name": ".venv",
      "language": "python",
      "name": "python3"
    },
    "language_info": {
      "codemirror_mode": {
        "name": "ipython",
        "version": 3
      },
      "file_extension": ".py",
      "mimetype": "text/x-python",
      "name": "python",
      "nbconvert_exporter": "python",
      "pygments_lexer": "ipython3",
      "version": "3.9.6 (default, Sep 13 2022, 22:03:16) \n[Clang 14.0.0 (clang-1400.0.29.102)]"
    },
    "orig_nbformat": 4,
    "vscode": {
      "interpreter": {
        "hash": "03e1b2f0c5db1051c2efeb0a29617324fa93868b88249f54c2e4f028dec48537"
      }
    }
  },
  "nbformat": 4,
  "nbformat_minor": 0
}
